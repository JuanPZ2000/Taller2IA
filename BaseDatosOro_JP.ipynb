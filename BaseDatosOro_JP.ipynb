{
  "nbformat": 4,
  "nbformat_minor": 0,
  "metadata": {
    "colab": {
      "name": "BaseDatosOro_JP.ipynb",
      "provenance": [],
      "include_colab_link": true
    },
    "kernelspec": {
      "name": "python3",
      "display_name": "Python 3"
    },
    "language_info": {
      "name": "python"
    }
  },
  "cells": [
    {
      "cell_type": "markdown",
      "metadata": {
        "id": "view-in-github",
        "colab_type": "text"
      },
      "source": [
        "<a href=\"https://colab.research.google.com/github/JuanPZ2000/Taller2IA/blob/main/BaseDatosOro_JP.ipynb\" target=\"_parent\"><img src=\"https://colab.research.google.com/assets/colab-badge.svg\" alt=\"Open In Colab\"/></a>"
      ]
    },
    {
      "cell_type": "markdown",
      "metadata": {
        "id": "RgsTEhRlF39V"
      },
      "source": [
        "## ORO!!! Forecasting"
      ]
    },
    {
      "cell_type": "code",
      "metadata": {
        "id": "N7tyhnsLGA30"
      },
      "source": [
        "## Importando las librerías\n",
        "import pandas as pd\n",
        "import numpy as np"
      ],
      "execution_count": 1,
      "outputs": []
    },
    {
      "cell_type": "code",
      "metadata": {
        "colab": {
          "base_uri": "https://localhost:8080/",
          "height": 317
        },
        "id": "Opw7aPwUGEoV",
        "outputId": "b7c7ac0a-42fe-418c-a23a-10b89f7701fa"
      },
      "source": [
        "dataframeGold = pd.read_csv('gold_price_data.csv')\n",
        "print(dataframeGold.columns)\n",
        "dataframeGold.describe()"
      ],
      "execution_count": 3,
      "outputs": [
        {
          "output_type": "stream",
          "text": [
            "Index(['Date', 'Value'], dtype='object')\n"
          ],
          "name": "stdout"
        },
        {
          "output_type": "execute_result",
          "data": {
            "text/html": [
              "<div>\n",
              "<style scoped>\n",
              "    .dataframe tbody tr th:only-of-type {\n",
              "        vertical-align: middle;\n",
              "    }\n",
              "\n",
              "    .dataframe tbody tr th {\n",
              "        vertical-align: top;\n",
              "    }\n",
              "\n",
              "    .dataframe thead th {\n",
              "        text-align: right;\n",
              "    }\n",
              "</style>\n",
              "<table border=\"1\" class=\"dataframe\">\n",
              "  <thead>\n",
              "    <tr style=\"text-align: right;\">\n",
              "      <th></th>\n",
              "      <th>Value</th>\n",
              "    </tr>\n",
              "  </thead>\n",
              "  <tbody>\n",
              "    <tr>\n",
              "      <th>count</th>\n",
              "      <td>10787.000000</td>\n",
              "    </tr>\n",
              "    <tr>\n",
              "      <th>mean</th>\n",
              "      <td>653.596634</td>\n",
              "    </tr>\n",
              "    <tr>\n",
              "      <th>std</th>\n",
              "      <td>434.030848</td>\n",
              "    </tr>\n",
              "    <tr>\n",
              "      <th>min</th>\n",
              "      <td>35.100000</td>\n",
              "    </tr>\n",
              "    <tr>\n",
              "      <th>25%</th>\n",
              "      <td>349.200000</td>\n",
              "    </tr>\n",
              "    <tr>\n",
              "      <th>50%</th>\n",
              "      <td>409.350000</td>\n",
              "    </tr>\n",
              "    <tr>\n",
              "      <th>75%</th>\n",
              "      <td>1061.625000</td>\n",
              "    </tr>\n",
              "    <tr>\n",
              "      <th>max</th>\n",
              "      <td>1895.000000</td>\n",
              "    </tr>\n",
              "  </tbody>\n",
              "</table>\n",
              "</div>"
            ],
            "text/plain": [
              "              Value\n",
              "count  10787.000000\n",
              "mean     653.596634\n",
              "std      434.030848\n",
              "min       35.100000\n",
              "25%      349.200000\n",
              "50%      409.350000\n",
              "75%     1061.625000\n",
              "max     1895.000000"
            ]
          },
          "metadata": {},
          "execution_count": 3
        }
      ]
    },
    {
      "cell_type": "code",
      "metadata": {
        "colab": {
          "base_uri": "https://localhost:8080/",
          "height": 416
        },
        "id": "e7n6GXFSHb5q",
        "outputId": "cdf6fd46-1805-408c-bbf2-028438f594ff"
      },
      "source": [
        "print(dataframeGold.dtypes)\n",
        "dataframeGold.head(10)"
      ],
      "execution_count": 4,
      "outputs": [
        {
          "output_type": "stream",
          "text": [
            "Date      object\n",
            "Value    float64\n",
            "dtype: object\n"
          ],
          "name": "stdout"
        },
        {
          "output_type": "execute_result",
          "data": {
            "text/html": [
              "<div>\n",
              "<style scoped>\n",
              "    .dataframe tbody tr th:only-of-type {\n",
              "        vertical-align: middle;\n",
              "    }\n",
              "\n",
              "    .dataframe tbody tr th {\n",
              "        vertical-align: top;\n",
              "    }\n",
              "\n",
              "    .dataframe thead th {\n",
              "        text-align: right;\n",
              "    }\n",
              "</style>\n",
              "<table border=\"1\" class=\"dataframe\">\n",
              "  <thead>\n",
              "    <tr style=\"text-align: right;\">\n",
              "      <th></th>\n",
              "      <th>Date</th>\n",
              "      <th>Value</th>\n",
              "    </tr>\n",
              "  </thead>\n",
              "  <tbody>\n",
              "    <tr>\n",
              "      <th>0</th>\n",
              "      <td>1970-01-01</td>\n",
              "      <td>35.2</td>\n",
              "    </tr>\n",
              "    <tr>\n",
              "      <th>1</th>\n",
              "      <td>1970-04-01</td>\n",
              "      <td>35.1</td>\n",
              "    </tr>\n",
              "    <tr>\n",
              "      <th>2</th>\n",
              "      <td>1970-07-01</td>\n",
              "      <td>35.4</td>\n",
              "    </tr>\n",
              "    <tr>\n",
              "      <th>3</th>\n",
              "      <td>1970-10-01</td>\n",
              "      <td>36.2</td>\n",
              "    </tr>\n",
              "    <tr>\n",
              "      <th>4</th>\n",
              "      <td>1971-01-01</td>\n",
              "      <td>37.4</td>\n",
              "    </tr>\n",
              "    <tr>\n",
              "      <th>5</th>\n",
              "      <td>1971-04-01</td>\n",
              "      <td>38.9</td>\n",
              "    </tr>\n",
              "    <tr>\n",
              "      <th>6</th>\n",
              "      <td>1971-07-01</td>\n",
              "      <td>40.1</td>\n",
              "    </tr>\n",
              "    <tr>\n",
              "      <th>7</th>\n",
              "      <td>1971-10-01</td>\n",
              "      <td>42.0</td>\n",
              "    </tr>\n",
              "    <tr>\n",
              "      <th>8</th>\n",
              "      <td>1972-01-03</td>\n",
              "      <td>43.5</td>\n",
              "    </tr>\n",
              "    <tr>\n",
              "      <th>9</th>\n",
              "      <td>1972-04-03</td>\n",
              "      <td>48.3</td>\n",
              "    </tr>\n",
              "  </tbody>\n",
              "</table>\n",
              "</div>"
            ],
            "text/plain": [
              "         Date  Value\n",
              "0  1970-01-01   35.2\n",
              "1  1970-04-01   35.1\n",
              "2  1970-07-01   35.4\n",
              "3  1970-10-01   36.2\n",
              "4  1971-01-01   37.4\n",
              "5  1971-04-01   38.9\n",
              "6  1971-07-01   40.1\n",
              "7  1971-10-01   42.0\n",
              "8  1972-01-03   43.5\n",
              "9  1972-04-03   48.3"
            ]
          },
          "metadata": {},
          "execution_count": 4
        }
      ]
    },
    {
      "cell_type": "code",
      "metadata": {
        "colab": {
          "base_uri": "https://localhost:8080/"
        },
        "id": "k0kuvBqqIDr9",
        "outputId": "eae0070d-81f2-40fa-ad3b-82890e4cb247"
      },
      "source": [
        "etiqueta = np.array(dataframeGold['Value'])[2:]\n",
        "car_m1 = np.array(dataframeGold['Value'])[1:-1]\n",
        "car_m2 = np.array(dataframeGold['Value'])[:-2]\n",
        "print(len(etiqueta))\n",
        "print(len(car_m1))\n",
        "print(len(car_m2))"
      ],
      "execution_count": 5,
      "outputs": [
        {
          "output_type": "stream",
          "text": [
            "10785\n",
            "10785\n",
            "10785\n"
          ],
          "name": "stdout"
        }
      ]
    },
    {
      "cell_type": "code",
      "metadata": {
        "id": "C_kbWkKeJV0p"
      },
      "source": [
        "## Agrupando los datos en un único Dataframe y exportándolo a un archivo CSV\n",
        "dataset = pd.DataFrame({'Carac menos 2':car_m2, 'Carac menos 1':car_m1, 'Etiqueta':etiqueta})\n",
        "dataset.to_csv('goldPriceArranged.csv')"
      ],
      "execution_count": 6,
      "outputs": []
    },
    {
      "cell_type": "code",
      "metadata": {
        "colab": {
          "base_uri": "https://localhost:8080/"
        },
        "id": "g0aUVperRvwL",
        "outputId": "2348461d-4272-431d-a44c-9a8f93294aab"
      },
      "source": [
        "## Pasando los datos a una matriz de tipo numpy\n",
        "matrizDatos = dataset.to_numpy()\n",
        "print(matrizDatos.shape)"
      ],
      "execution_count": 7,
      "outputs": [
        {
          "output_type": "stream",
          "text": [
            "(10785, 3)\n"
          ],
          "name": "stdout"
        }
      ]
    },
    {
      "cell_type": "code",
      "metadata": {
        "id": "lWdXTtlt-eIJ"
      },
      "source": [
        "def funcCosto(a, b):\n",
        "  J = (a-b)**2\n",
        "  return np.sum(J)/(2*len(J))"
      ],
      "execution_count": 8,
      "outputs": []
    },
    {
      "cell_type": "code",
      "metadata": {
        "colab": {
          "base_uri": "https://localhost:8080/"
        },
        "id": "Rx-b4YEI9gg7",
        "outputId": "c2ef65f8-7efb-4d1a-9ee2-4c03b830c264"
      },
      "source": [
        "# Hipotesis\n",
        "J,T0,T1,min = 0,0,0,100\n",
        "for T0i in np.arange(-2,2,1/100):\n",
        "  for T1j in np.arange(-2,2,1/100):\n",
        "    #Encontrar hipotesis\n",
        "    h = T0i*car_m1 + T1j*car_m2\n",
        "    #Funcion de costo\n",
        "    J=funcCosto(h,etiqueta)\n",
        "    if J < min:\n",
        "      min = J\n",
        "      T0 = T0i\n",
        "      T1 = T1j\n",
        "\n",
        "print(\"Los mejores parámetros son:\",T0,T1,\"donde la función de costo retornó: \",min)  \n"
      ],
      "execution_count": 9,
      "outputs": [
        {
          "output_type": "stream",
          "text": [
            "Los mejores parámetros son: 0.9900000000000029 0.010000000000001563 donde la función de costo retornó:  40.803401532663564\n"
          ],
          "name": "stdout"
        }
      ]
    }
  ]
}